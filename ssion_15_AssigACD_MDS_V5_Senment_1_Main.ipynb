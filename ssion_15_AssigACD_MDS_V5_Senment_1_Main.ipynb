{
 "cells": [
  {
   "cell_type": "markdown",
   "metadata": {},
   "source": [
    "### 1You survey households in your area to find the average rent they are paying. Find the standard deviation from the following data: \n",
    "$1550, $1700, $900, $850, $1000, $950."
   ]
  },
  {
   "cell_type": "code",
   "execution_count": 2,
   "metadata": {},
   "outputs": [
    {
     "name": "stdout",
     "output_type": "stream",
     "text": [
      "This is POPULATION standard deviation.\n",
      "The mean of [1550, 1700, 900, 850, 1000, 950] is 1158.3333333333333.\n",
      "The differences are [391.66666666666674, 541.6666666666667, -258.33333333333326, -308.33333333333326, -158.33333333333326, -208.33333333333326].\n",
      "The sum of squared differences is 677083.3333333334.\n",
      "The variance is 112847.22222222223.\n",
      "The standard deviation is 335.92740617910624.\n",
      "--------------------------\n"
     ]
    }
   ],
   "source": [
    "from math import sqrt\n",
    "\n",
    "\n",
    "def standard_deviation(lst):\n",
    "    \"\"\"Calculates the standard deviation for a list of numbers.\"\"\"\n",
    "    num_items = len(lst)\n",
    "    mean = sum(lst) / num_items\n",
    "    differences = [x - mean for x in lst]\n",
    "    sq_differences = [d ** 2 for d in differences]\n",
    "    ssd = sum(sq_differences)\n",
    "    variance = ssd / num_items\n",
    "   \n",
    "    sd = sqrt(variance)\n",
    "    # You could `return sd` here.\n",
    "\n",
    "    print('The mean of {} is {}.'.format(lst, mean))\n",
    "    print('The differences are {}.'.format(differences))\n",
    "    print('The sum of squared differences is {}.'.format(ssd))\n",
    "    print('The variance is {}.'.format(variance))\n",
    "    print('The standard deviation is {}.'.format(sd))\n",
    "    print('--------------------------')\n",
    "\n",
    "\n",
    "s = [1550, 1700, 900, 850, 1000, 950]\n",
    "standard_deviation(s)"
   ]
  },
  {
   "cell_type": "markdown",
   "metadata": {},
   "source": [
    "### 2.Find the variance for the following set of data representing trees in California (heights infeet):3, 21, 98, 203, 17, 9"
   ]
  },
  {
   "cell_type": "code",
   "execution_count": 3,
   "metadata": {
    "scrolled": true
   },
   "outputs": [
    {
     "name": "stdout",
     "output_type": "stream",
     "text": [
      "This is POPULATION standard deviation.\n",
      "The mean of [3, 21, 98, 203, 17, 9] is 58.5.\n",
      "The differences are [-55.5, -37.5, 39.5, 144.5, -41.5, -49.5].\n",
      "The sum of squared differences is 31099.5.\n",
      "The variance is 5183.25.\n",
      "The standard deviation is 71.99479147827293.\n",
      "--------------------------\n"
     ]
    }
   ],
   "source": [
    "s = [3, 21, 98, 203, 17, 9 ]\n",
    "standard_deviation(s)"
   ]
  },
  {
   "cell_type": "markdown",
   "metadata": {},
   "source": [
    "### 3.In a class on 100 students, 80 students passed in all subjects, 10 failed in one subject, 7 failed in two subjects and 3 failed in three subjects. Find the probability distribution of the variable for number of subjects a student from the given class has failed in."
   ]
  },
  {
   "cell_type": "code",
   "execution_count": 9,
   "metadata": {},
   "outputs": [
    {
     "name": "stdout",
     "output_type": "stream",
     "text": [
      "The probability of failing in 0 subjects, P(X=0) =0.8\n",
      "The probability of failing in 1 subjects, P(X=0) =0.1\n",
      "The probability of failing in 2 subjects, P(X=0) =0.07\n",
      "The probability of failing in 3 subjects, P(X=0) =0.03\n"
     ]
    }
   ],
   "source": [
    "# Sample Space\n",
    "students = 100\n",
    "faledinzerosubjects=80\n",
    "faledinonesubjects=10\n",
    "faledintwosubjects=7\n",
    "faledinthreesubjects=3\n",
    "# Outcomes\n",
    "#The probability of failing in 0 subjects, P(X=0) \n",
    "zerosubject_probability = faledinzerosubjects / students\n",
    "onesubject_probability = faledinonesubjects / students\n",
    "twosubject_probability = faledintwosubjects / students\n",
    "threesubject_probability = faledinthreesubjects / students\n",
    "# Divide possible outcomes by the sample set\n",
    "# Print probability rounded to two decimal places\n",
    "print(\"The probability of failing in 0 subjects, P(X=0) ={}\".format(round(zerosubject_probability, 2)))\n",
    "print(\"The probability of failing in 1 subjects, P(X=0) ={}\".format(round(onesubject_probability, 2)))\n",
    "print(\"The probability of failing in 2 subjects, P(X=0) ={}\".format(round(twosubject_probability, 2)))\n",
    "print(\"The probability of failing in 3 subjects, P(X=0) ={}\".format(round(threesubject_probability, 2)))"
   ]
  },
  {
   "cell_type": "code",
   "execution_count": null,
   "metadata": {},
   "outputs": [],
   "source": []
  }
 ],
 "metadata": {
  "kernelspec": {
   "display_name": "Python 3",
   "language": "python",
   "name": "python3"
  },
  "language_info": {
   "codemirror_mode": {
    "name": "ipython",
    "version": 3
   },
   "file_extension": ".py",
   "mimetype": "text/x-python",
   "name": "python",
   "nbconvert_exporter": "python",
   "pygments_lexer": "ipython3",
   "version": "3.7.0"
  }
 },
 "nbformat": 4,
 "nbformat_minor": 2
}
